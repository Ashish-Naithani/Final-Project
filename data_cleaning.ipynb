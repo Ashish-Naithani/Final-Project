{
 "cells": [
  {
   "cell_type": "code",
   "execution_count": 1,
   "id": "a07acf52-6651-4e9f-92e8-c54c81959091",
   "metadata": {},
   "outputs": [],
   "source": [
    "import pandas as pd\n",
    "import numpy as np\n",
    "import seaborn as sns\n",
    "import warnings"
   ]
  },
  {
   "cell_type": "code",
   "execution_count": 2,
   "id": "9c36c97f-7ef8-45bb-9f0d-476ef633f563",
   "metadata": {
    "scrolled": true
   },
   "outputs": [],
   "source": [
    "#Reading the data\n",
    "read_data=pd.read_excel('C:\\\\Users\\\\user\\\\ashish\\\\project_2\\\\CO2_Emissions.xlsx',sheet_name='GHG_by_sector_and_country')"
   ]
  },
  {
   "cell_type": "code",
   "execution_count": 3,
   "id": "df7156f3-34a8-42d0-8b33-5a9c72e75fbf",
   "metadata": {},
   "outputs": [
    {
     "data": {
      "text/html": [
       "<div>\n",
       "<style scoped>\n",
       "    .dataframe tbody tr th:only-of-type {\n",
       "        vertical-align: middle;\n",
       "    }\n",
       "\n",
       "    .dataframe tbody tr th {\n",
       "        vertical-align: top;\n",
       "    }\n",
       "\n",
       "    .dataframe thead th {\n",
       "        text-align: right;\n",
       "    }\n",
       "</style>\n",
       "<table border=\"1\" class=\"dataframe\">\n",
       "  <thead>\n",
       "    <tr style=\"text-align: right;\">\n",
       "      <th></th>\n",
       "      <th>Substance</th>\n",
       "      <th>Sector</th>\n",
       "      <th>EDGAR Country Code</th>\n",
       "      <th>Country</th>\n",
       "      <th>1970</th>\n",
       "      <th>1971</th>\n",
       "      <th>1972</th>\n",
       "      <th>1973</th>\n",
       "      <th>1974</th>\n",
       "      <th>1975</th>\n",
       "      <th>...</th>\n",
       "      <th>2014</th>\n",
       "      <th>2015</th>\n",
       "      <th>2016</th>\n",
       "      <th>2017</th>\n",
       "      <th>2018</th>\n",
       "      <th>2019</th>\n",
       "      <th>2020</th>\n",
       "      <th>2021</th>\n",
       "      <th>2022</th>\n",
       "      <th>2023</th>\n",
       "    </tr>\n",
       "  </thead>\n",
       "  <tbody>\n",
       "    <tr>\n",
       "      <th>0</th>\n",
       "      <td>CO2</td>\n",
       "      <td>Agriculture</td>\n",
       "      <td>AFG</td>\n",
       "      <td>Afghanistan</td>\n",
       "      <td>0.029229</td>\n",
       "      <td>0.029229</td>\n",
       "      <td>0.029229</td>\n",
       "      <td>0.029229</td>\n",
       "      <td>0.039967</td>\n",
       "      <td>0.045310</td>\n",
       "      <td>...</td>\n",
       "      <td>0.084490</td>\n",
       "      <td>0.116967</td>\n",
       "      <td>0.163009</td>\n",
       "      <td>0.311300</td>\n",
       "      <td>0.161333</td>\n",
       "      <td>0.151276</td>\n",
       "      <td>0.064795</td>\n",
       "      <td>0.046692</td>\n",
       "      <td>0.023617</td>\n",
       "      <td>0.015142</td>\n",
       "    </tr>\n",
       "    <tr>\n",
       "      <th>1</th>\n",
       "      <td>CO2</td>\n",
       "      <td>Agriculture</td>\n",
       "      <td>ALB</td>\n",
       "      <td>Albania</td>\n",
       "      <td>0.113300</td>\n",
       "      <td>0.113300</td>\n",
       "      <td>0.113300</td>\n",
       "      <td>0.113300</td>\n",
       "      <td>0.113614</td>\n",
       "      <td>0.112514</td>\n",
       "      <td>...</td>\n",
       "      <td>0.053481</td>\n",
       "      <td>0.056519</td>\n",
       "      <td>0.047405</td>\n",
       "      <td>0.054162</td>\n",
       "      <td>0.046462</td>\n",
       "      <td>0.066419</td>\n",
       "      <td>0.060552</td>\n",
       "      <td>0.048348</td>\n",
       "      <td>0.048536</td>\n",
       "      <td>0.048955</td>\n",
       "    </tr>\n",
       "  </tbody>\n",
       "</table>\n",
       "<p>2 rows × 58 columns</p>\n",
       "</div>"
      ],
      "text/plain": [
       "  Substance       Sector EDGAR Country Code      Country      1970      1971  \\\n",
       "0       CO2  Agriculture                AFG  Afghanistan  0.029229  0.029229   \n",
       "1       CO2  Agriculture                ALB      Albania  0.113300  0.113300   \n",
       "\n",
       "       1972      1973      1974      1975  ...      2014      2015      2016  \\\n",
       "0  0.029229  0.029229  0.039967  0.045310  ...  0.084490  0.116967  0.163009   \n",
       "1  0.113300  0.113300  0.113614  0.112514  ...  0.053481  0.056519  0.047405   \n",
       "\n",
       "       2017      2018      2019      2020      2021      2022      2023  \n",
       "0  0.311300  0.161333  0.151276  0.064795  0.046692  0.023617  0.015142  \n",
       "1  0.054162  0.046462  0.066419  0.060552  0.048348  0.048536  0.048955  \n",
       "\n",
       "[2 rows x 58 columns]"
      ]
     },
     "execution_count": 3,
     "metadata": {},
     "output_type": "execute_result"
    }
   ],
   "source": [
    "read_data.head(2)"
   ]
  },
  {
   "cell_type": "code",
   "execution_count": 4,
   "id": "77975815-cf89-4362-9152-1c7774cbecc1",
   "metadata": {
    "scrolled": true
   },
   "outputs": [
    {
     "data": {
      "text/plain": [
       "Substance              0\n",
       "Sector                 0\n",
       "EDGAR Country Code     0\n",
       "Country                0\n",
       "1970                  51\n",
       "1971                  51\n",
       "1972                  50\n",
       "1973                  46\n",
       "1974                  47\n",
       "1975                  45\n",
       "1976                  41\n",
       "1977                  40\n",
       "1978                  37\n",
       "1979                  37\n",
       "1980                  48\n",
       "1981                  49\n",
       "1982                  50\n",
       "1983                  47\n",
       "1984                  48\n",
       "1985                  49\n",
       "1986                  47\n",
       "1987                  47\n",
       "1988                  48\n",
       "1989                  49\n",
       "1990                  45\n",
       "1991                  48\n",
       "1992                  50\n",
       "1993                  41\n",
       "1994                  53\n",
       "1995                  50\n",
       "1996                  46\n",
       "1997                  45\n",
       "1998                  66\n",
       "1999                  67\n",
       "2000                  68\n",
       "2001                  67\n",
       "2002                  68\n",
       "2003                  62\n",
       "2004                  48\n",
       "2005                  46\n",
       "2006                  50\n",
       "2007                  49\n",
       "2008                  51\n",
       "2009                  46\n",
       "2010                  45\n",
       "2011                  43\n",
       "2012                  39\n",
       "2013                  50\n",
       "2014                  50\n",
       "2015                  48\n",
       "2016                  49\n",
       "2017                  48\n",
       "2018                  51\n",
       "2019                  49\n",
       "2020                  49\n",
       "2021                  47\n",
       "2022                  46\n",
       "2023                  47\n",
       "dtype: int64"
      ]
     },
     "execution_count": 4,
     "metadata": {},
     "output_type": "execute_result"
    }
   ],
   "source": [
    "# Checking for null values\n",
    "read_data.isnull().sum()"
   ]
  },
  {
   "cell_type": "code",
   "execution_count": 5,
   "id": "70e1599f-6440-4ce2-ae3d-1a8b19d96a63",
   "metadata": {},
   "outputs": [],
   "source": [
    "#Reading the Column names\n",
    "lst=read_data.columns"
   ]
  },
  {
   "cell_type": "code",
   "execution_count": 6,
   "id": "3d668860-5acb-4e51-aff1-b363eb65baba",
   "metadata": {},
   "outputs": [],
   "source": [
    "#Removing Null values\n",
    "for i in lst:\n",
    "        if read_data[i].isnull().sum()>0:\n",
    "            x=read_data[i].median()\n",
    "            read_data[i]=read_data[i].fillna(x)"
   ]
  },
  {
   "cell_type": "code",
   "execution_count": 7,
   "id": "129a206c-1682-4ec0-9d5d-24a20f2769f2",
   "metadata": {
    "collapsed": true,
    "jupyter": {
     "outputs_hidden": true
    },
    "scrolled": true
   },
   "outputs": [
    {
     "data": {
      "text/plain": [
       "Substance             0\n",
       "Sector                0\n",
       "EDGAR Country Code    0\n",
       "Country               0\n",
       "1970                  0\n",
       "1971                  0\n",
       "1972                  0\n",
       "1973                  0\n",
       "1974                  0\n",
       "1975                  0\n",
       "1976                  0\n",
       "1977                  0\n",
       "1978                  0\n",
       "1979                  0\n",
       "1980                  0\n",
       "1981                  0\n",
       "1982                  0\n",
       "1983                  0\n",
       "1984                  0\n",
       "1985                  0\n",
       "1986                  0\n",
       "1987                  0\n",
       "1988                  0\n",
       "1989                  0\n",
       "1990                  0\n",
       "1991                  0\n",
       "1992                  0\n",
       "1993                  0\n",
       "1994                  0\n",
       "1995                  0\n",
       "1996                  0\n",
       "1997                  0\n",
       "1998                  0\n",
       "1999                  0\n",
       "2000                  0\n",
       "2001                  0\n",
       "2002                  0\n",
       "2003                  0\n",
       "2004                  0\n",
       "2005                  0\n",
       "2006                  0\n",
       "2007                  0\n",
       "2008                  0\n",
       "2009                  0\n",
       "2010                  0\n",
       "2011                  0\n",
       "2012                  0\n",
       "2013                  0\n",
       "2014                  0\n",
       "2015                  0\n",
       "2016                  0\n",
       "2017                  0\n",
       "2018                  0\n",
       "2019                  0\n",
       "2020                  0\n",
       "2021                  0\n",
       "2022                  0\n",
       "2023                  0\n",
       "dtype: int64"
      ]
     },
     "execution_count": 7,
     "metadata": {},
     "output_type": "execute_result"
    }
   ],
   "source": [
    "# Checking for null values\n",
    "read_data.isnull().sum()"
   ]
  },
  {
   "cell_type": "code",
   "execution_count": 8,
   "id": "40999429-cfdd-46ba-99fc-76a1729ce1f6",
   "metadata": {},
   "outputs": [
    {
     "data": {
      "text/plain": [
       "107811"
      ]
     },
     "execution_count": 8,
     "metadata": {},
     "output_type": "execute_result"
    }
   ],
   "source": [
    "read_data['Total']=read_data[lst[4:]].sum()\n",
    "lst[4:]\n",
    "sum(read_data[lst[4:]])"
   ]
  },
  {
   "cell_type": "code",
   "execution_count": 9,
   "id": "0970d1a0-678a-4001-9da7-c2facf9d947b",
   "metadata": {},
   "outputs": [],
   "source": [
    "def sums(row):\n",
    "    add=np.sum(row[4:])\n",
    "    #print(add)\n",
    "    #print(np.sum(row[4:]))                #[4:]\n",
    "    return add"
   ]
  },
  {
   "cell_type": "code",
   "execution_count": 10,
   "id": "63e7de41-ddc5-4059-ac6d-537c9edbb4ed",
   "metadata": {
    "scrolled": true
   },
   "outputs": [],
   "source": [
    "read_data['Total']=read_data.apply(sums,axis=1)"
   ]
  },
  {
   "cell_type": "code",
   "execution_count": 11,
   "id": "8d774d24-72b5-47bd-80f8-29f44eec3091",
   "metadata": {},
   "outputs": [
    {
     "data": {
      "text/plain": [
       "0           8.655044\n",
       "1           4.408967\n",
       "2          38.566196\n",
       "3           3.346120\n",
       "4          64.737930\n",
       "            ...     \n",
       "1455    32679.579758\n",
       "1456    62401.925707\n",
       "1457    12829.741873\n",
       "1458    35687.649939\n",
       "1459      314.436261\n",
       "Name: Total, Length: 1460, dtype: float64"
      ]
     },
     "execution_count": 11,
     "metadata": {},
     "output_type": "execute_result"
    }
   ],
   "source": [
    "read_data['Total']"
   ]
  },
  {
   "cell_type": "code",
   "execution_count": 13,
   "id": "a84ab94a-a1b3-492e-910d-f9d9f2ddf385",
   "metadata": {},
   "outputs": [],
   "source": [
    "with pd.ExcelWriter('co2_emmision.xlsx') as writer:\n",
    "    read_data.to_excel(writer,sheet_name=\"movie data\",index=False)"
   ]
  },
  {
   "cell_type": "code",
   "execution_count": null,
   "id": "0396d064-f561-485c-926c-f884aba02770",
   "metadata": {},
   "outputs": [],
   "source": []
  }
 ],
 "metadata": {
  "kernelspec": {
   "display_name": "Python 3 (ipykernel)",
   "language": "python",
   "name": "python3"
  },
  "language_info": {
   "codemirror_mode": {
    "name": "ipython",
    "version": 3
   },
   "file_extension": ".py",
   "mimetype": "text/x-python",
   "name": "python",
   "nbconvert_exporter": "python",
   "pygments_lexer": "ipython3",
   "version": "3.13.5"
  }
 },
 "nbformat": 4,
 "nbformat_minor": 5
}
